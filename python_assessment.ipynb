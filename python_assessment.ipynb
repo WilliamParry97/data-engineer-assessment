{
 "cells": [
  {
   "cell_type": "code",
   "execution_count": 106,
   "metadata": {},
   "outputs": [],
   "source": [
    "import pandas as pd\n",
    "import numpy as np\n",
    "import random\n",
    "from datetime import timedelta\n",
    "import calendar"
   ]
  },
  {
   "cell_type": "code",
   "execution_count": 120,
   "metadata": {},
   "outputs": [
    {
     "name": "stdout",
     "output_type": "stream",
     "text": [
      "                     date exit_zone  aq_min_kwh  aq_max_kwh  rate_p_per_kwh\n",
      "0     2020-04-01 00:00:00       EA1           0     73200.0          0.2652\n",
      "1     2020-04-01 00:00:00       EA1       73200    732000.0          0.1980\n",
      "2     2020-04-01 00:00:00       EA1      732000         inf          0.2875\n",
      "3     2020-04-01 00:00:00       EA2           0     73200.0          0.2970\n",
      "4     2020-04-01 00:00:00       EA2       73200    732000.0          0.1524\n",
      "...                   ...       ...         ...         ...             ...\n",
      "1135  2024-10-01 00:00:00       WM2       73200    732000.0          0.4537\n",
      "1136  2024-10-01 00:00:00       WM2      732000         inf          0.7534\n",
      "1137  2024-10-01 00:00:00       WM3           0     73200.0          0.7263\n",
      "1138  2024-10-01 00:00:00       WM3       73200    732000.0          0.6109\n",
      "1139  2024-10-01 00:00:00       WM3      732000         inf          0.4928\n",
      "\n",
      "[1140 rows x 5 columns]\n"
     ]
    }
   ],
   "source": [
    "meter_list = pd.read_csv('meter.csv')\n",
    "forecast = pd.read_csv('forecast.csv')\n",
    "rates = pd.read_csv('rate.csv')\n",
    "\n",
    "# convert NaN to infity otherwise it will give me problems later\n",
    "rates['aq_max_kwh'] = rates['aq_max_kwh'].fillna(float(\"inf\"))"
   ]
  },
  {
   "cell_type": "code",
   "execution_count": null,
   "metadata": {},
   "outputs": [],
   "source": []
  },
  {
   "cell_type": "code",
   "execution_count": 132,
   "metadata": {},
   "outputs": [],
   "source": [
    "def get_dayrates(row):\n",
    "    applicable_rates = rates[(rates['exit_zone'] == row['exit_zone']) & \n",
    "                        (rates['aq_min_kwh'] <= row['aq_kwh']) & \n",
    "                        (row['aq_kwh'] <= rates['aq_max_kwh']) & \n",
    "                        (rates['date'] <= row['date'])]\n",
    "    valid_rates = applicable_rates.loc[applicable_rates['date'].idxmax()]\n",
    "    return valid_rates['rate_p_per_kwh']\n",
    "\n",
    "\n"
   ]
  },
  {
   "cell_type": "code",
   "execution_count": 133,
   "metadata": {},
   "outputs": [
    {
     "name": "stdout",
     "output_type": "stream",
     "text": [
      "      meter_id  aq_kwh exit_zone                 date         kwh  \\\n",
      "0     14676236   28978       EA1  2020-06-01 00:00:00   22.070768   \n",
      "1     14676236   28978       EA1  2020-06-02 00:00:00   19.170720   \n",
      "2     14676236   28978       EA1  2020-06-03 00:00:00   23.555111   \n",
      "3     14676236   28978       EA1  2020-06-04 00:00:00   18.220712   \n",
      "4     14676236   28978       EA1  2020-06-05 00:00:00   14.196134   \n",
      "...        ...     ...       ...                  ...         ...   \n",
      "3407  88357331  484399       SE2  2022-09-27 00:00:00  441.014724   \n",
      "3408  88357331  484399       SE2  2022-09-28 00:00:00  441.512055   \n",
      "3409  88357331  484399       SE2  2022-09-29 00:00:00  437.240657   \n",
      "3410  88357331  484399       SE2  2022-09-30 00:00:00  517.608354   \n",
      "3411  88357331  484399       SE2  2022-10-01 00:00:00  460.535505   \n",
      "\n",
      "      rate_p_per_kwh  \n",
      "0             0.2652  \n",
      "1             0.2652  \n",
      "2             0.2652  \n",
      "3             0.2652  \n",
      "4             0.2652  \n",
      "...              ...  \n",
      "3407          0.3647  \n",
      "3408          0.3647  \n",
      "3409          0.3647  \n",
      "3410          0.3647  \n",
      "3411          0.4085  \n",
      "\n",
      "[3412 rows x 6 columns]\n"
     ]
    }
   ],
   "source": [
    "# merge meter list and forecast to get all the relevant data for looking up the rates in one df - and for grouby sum later on\n",
    "forecast_list = meter_list.merge(forecast, on=['meter_id'])\n",
    "\n",
    "# initiate the function to retrieve day rates\n",
    "forecast_list['rate_p_per_kwh'] = forecast_list.apply(get_dayrates, axis=1)\n",
    "\n",
    "# calculate the daily cost and save into a new column\n",
    "forecast_list['daily_cost'] = forecast_list['kwh']*forecast_list['rate_p_per_kwh']"
   ]
  },
  {
   "cell_type": "code",
   "execution_count": 152,
   "metadata": {},
   "outputs": [
    {
     "name": "stdout",
     "output_type": "stream",
     "text": [
      "   Meter ID  Total Estimated Consumption (kWh)  Total Cost (£)\n",
      "0  14676236                            28978.0          100.15\n",
      "1  34509937                            78324.0          275.49\n",
      "2  50264822                           265667.0          731.24\n",
      "3  88357331                           484399.0         1433.16\n"
     ]
    }
   ],
   "source": [
    "# drop unessesairy columns\n",
    "forecast_list = forecast_list.drop(['aq_kwh','exit_zone','date','rate_p_per_kwh'], axis = 1)\n",
    "\n",
    "# sum values grouped by meter id\n",
    "summary = forecast_list.groupby('meter_id').sum()\n",
    "\n",
    "# convert to GBP and apply roundign by 2 decimal points\n",
    "summary['daily_cost'] = summary['daily_cost']/100\n",
    "summary = summary.round(2)\n",
    "\n",
    "# naming convestion as was specified\n",
    "summary = summary.reset_index()\n",
    "summary.columns = ['Meter ID', 'Total Estimated Consumption (kWh)', 'Total Cost (£)']\n",
    "\n",
    "print(summary)"
   ]
  },
  {
   "cell_type": "code",
   "execution_count": 3,
   "metadata": {},
   "outputs": [
    {
     "data": {
      "text/plain": [
       "'Write a function that generates a list of random meters of any size. Examples of valid \\nexit zones can be found in the rate table. You may randomly generate the annual \\nquantity'"
      ]
     },
     "execution_count": 3,
     "metadata": {},
     "output_type": "execute_result"
    }
   ],
   "source": [
    "'''Write a function that generates a list of random meters of any size. Examples of valid \n",
    "exit zones can be found in the rate table. You may randomly generate the annual \n",
    "quantity'''\n",
    "\n",
    "import random \n",
    "# random\n",
    "\n",
    "# exit zones all put into a list\n",
    "\n",
    "# for every row until the defines size is met \n",
    "# index number = meter id\n",
    "# AQ is a random int \n",
    "# retrieve random item from list and enter as exit zone\n",
    "\n",
    "# return completed csv\n",
    "\n",
    "\n",
    "\n"
   ]
  },
  {
   "cell_type": "code",
   "execution_count": 4,
   "metadata": {},
   "outputs": [
    {
     "data": {
      "text/plain": [
       "\"Write a function that generates mock consumption data given a list of meters and a \\nstart date and duration (number of days in the forecast). The data may be completely \\nrandom and it doesn't have to match with the meters' annual quantities either\""
      ]
     },
     "execution_count": 4,
     "metadata": {},
     "output_type": "execute_result"
    }
   ],
   "source": [
    "'''Write a function that generates mock consumption data given a list of meters and a \n",
    "start date and duration (number of days in the forecast). The data may be completely \n",
    "random and it doesn't have to match with the meters' annual quantities either'''\n",
    "\n",
    "\n",
    "# read meter list\n",
    "# generate table for each day from start date until datrt date + duration\n",
    "# generate random floats for each cell"
   ]
  },
  {
   "cell_type": "code",
   "execution_count": null,
   "metadata": {},
   "outputs": [],
   "source": [
    "'''Write a function that takes as an input a meter list and a consumption forecast table \n",
    "and that calculates the transportation cost table (i.e., best take your logic from task 1 \n",
    "and wrap it in a function). Benchmark this function using meter lists of different sizes \n",
    "and consumption forecasts for periods of different lengths. How does the function scale \n",
    "for larger sets of data'''\n",
    "\n",
    "# read in meter list\n",
    "# read in consumption forecast\n",
    "\n",
    "# transportation cost calc from Q1"
   ]
  },
  {
   "cell_type": "code",
   "execution_count": null,
   "metadata": {},
   "outputs": [],
   "source": [
    "'''What are your observations after benchmarking? Are there any steps in the cost \n",
    "calculation that can be improved? How would you go about improving the performance \n",
    "of this calculation'''\n",
    "\n"
   ]
  },
  {
   "cell_type": "code",
   "execution_count": null,
   "metadata": {},
   "outputs": [],
   "source": []
  }
 ],
 "metadata": {
  "kernelspec": {
   "display_name": "Python 3 (ipykernel)",
   "language": "python",
   "name": "python3"
  },
  "language_info": {
   "codemirror_mode": {
    "name": "ipython",
    "version": 3
   },
   "file_extension": ".py",
   "mimetype": "text/x-python",
   "name": "python",
   "nbconvert_exporter": "python",
   "pygments_lexer": "ipython3",
   "version": "3.13.0"
  }
 },
 "nbformat": 4,
 "nbformat_minor": 4
}
